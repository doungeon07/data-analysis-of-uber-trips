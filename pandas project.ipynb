{
 "cells": [
  {
   "cell_type": "code",
   "execution_count": 1,
   "metadata": {},
   "outputs": [
    {
     "name": "stdout",
     "output_type": "stream",
     "text": [
      "Populating the interactive namespace from numpy and matplotlib\n"
     ]
    }
   ],
   "source": [
    "%pylab inline\n",
    "import pandas as pd\n",
    "import seaborn"
   ]
  },
  {
   "cell_type": "code",
   "execution_count": 2,
   "metadata": {},
   "outputs": [
    {
     "data": {
      "text/html": [
       "<div>\n",
       "<style scoped>\n",
       "    .dataframe tbody tr th:only-of-type {\n",
       "        vertical-align: middle;\n",
       "    }\n",
       "\n",
       "    .dataframe tbody tr th {\n",
       "        vertical-align: top;\n",
       "    }\n",
       "\n",
       "    .dataframe thead th {\n",
       "        text-align: right;\n",
       "    }\n",
       "</style>\n",
       "<table border=\"1\" class=\"dataframe\">\n",
       "  <thead>\n",
       "    <tr style=\"text-align: right;\">\n",
       "      <th></th>\n",
       "      <th>Date/Time</th>\n",
       "      <th>Lat</th>\n",
       "      <th>Lon</th>\n",
       "      <th>Base</th>\n",
       "    </tr>\n",
       "  </thead>\n",
       "  <tbody>\n",
       "    <tr>\n",
       "      <td>0</td>\n",
       "      <td>4/1/2014 0:11:00</td>\n",
       "      <td>40.7690</td>\n",
       "      <td>-73.9549</td>\n",
       "      <td>B02512</td>\n",
       "    </tr>\n",
       "    <tr>\n",
       "      <td>1</td>\n",
       "      <td>4/1/2014 0:17:00</td>\n",
       "      <td>40.7267</td>\n",
       "      <td>-74.0345</td>\n",
       "      <td>B02512</td>\n",
       "    </tr>\n",
       "    <tr>\n",
       "      <td>2</td>\n",
       "      <td>4/1/2014 0:21:00</td>\n",
       "      <td>40.7316</td>\n",
       "      <td>-73.9873</td>\n",
       "      <td>B02512</td>\n",
       "    </tr>\n",
       "    <tr>\n",
       "      <td>3</td>\n",
       "      <td>4/1/2014 0:28:00</td>\n",
       "      <td>40.7588</td>\n",
       "      <td>-73.9776</td>\n",
       "      <td>B02512</td>\n",
       "    </tr>\n",
       "    <tr>\n",
       "      <td>4</td>\n",
       "      <td>4/1/2014 0:33:00</td>\n",
       "      <td>40.7594</td>\n",
       "      <td>-73.9722</td>\n",
       "      <td>B02512</td>\n",
       "    </tr>\n",
       "    <tr>\n",
       "      <td>...</td>\n",
       "      <td>...</td>\n",
       "      <td>...</td>\n",
       "      <td>...</td>\n",
       "      <td>...</td>\n",
       "    </tr>\n",
       "    <tr>\n",
       "      <td>564511</td>\n",
       "      <td>4/30/2014 23:22:00</td>\n",
       "      <td>40.7640</td>\n",
       "      <td>-73.9744</td>\n",
       "      <td>B02764</td>\n",
       "    </tr>\n",
       "    <tr>\n",
       "      <td>564512</td>\n",
       "      <td>4/30/2014 23:26:00</td>\n",
       "      <td>40.7629</td>\n",
       "      <td>-73.9672</td>\n",
       "      <td>B02764</td>\n",
       "    </tr>\n",
       "    <tr>\n",
       "      <td>564513</td>\n",
       "      <td>4/30/2014 23:31:00</td>\n",
       "      <td>40.7443</td>\n",
       "      <td>-73.9889</td>\n",
       "      <td>B02764</td>\n",
       "    </tr>\n",
       "    <tr>\n",
       "      <td>564514</td>\n",
       "      <td>4/30/2014 23:32:00</td>\n",
       "      <td>40.6756</td>\n",
       "      <td>-73.9405</td>\n",
       "      <td>B02764</td>\n",
       "    </tr>\n",
       "    <tr>\n",
       "      <td>564515</td>\n",
       "      <td>4/30/2014 23:48:00</td>\n",
       "      <td>40.6880</td>\n",
       "      <td>-73.9608</td>\n",
       "      <td>B02764</td>\n",
       "    </tr>\n",
       "  </tbody>\n",
       "</table>\n",
       "<p>564516 rows × 4 columns</p>\n",
       "</div>"
      ],
      "text/plain": [
       "                 Date/Time      Lat      Lon    Base\n",
       "0         4/1/2014 0:11:00  40.7690 -73.9549  B02512\n",
       "1         4/1/2014 0:17:00  40.7267 -74.0345  B02512\n",
       "2         4/1/2014 0:21:00  40.7316 -73.9873  B02512\n",
       "3         4/1/2014 0:28:00  40.7588 -73.9776  B02512\n",
       "4         4/1/2014 0:33:00  40.7594 -73.9722  B02512\n",
       "...                    ...      ...      ...     ...\n",
       "564511  4/30/2014 23:22:00  40.7640 -73.9744  B02764\n",
       "564512  4/30/2014 23:26:00  40.7629 -73.9672  B02764\n",
       "564513  4/30/2014 23:31:00  40.7443 -73.9889  B02764\n",
       "564514  4/30/2014 23:32:00  40.6756 -73.9405  B02764\n",
       "564515  4/30/2014 23:48:00  40.6880 -73.9608  B02764\n",
       "\n",
       "[564516 rows x 4 columns]"
      ]
     },
     "execution_count": 2,
     "metadata": {},
     "output_type": "execute_result"
    }
   ],
   "source": [
    "data = pd.read_csv('uber-raw-data-apr14.csv')\n",
    "data"
   ]
  },
  {
   "cell_type": "code",
   "execution_count": 3,
   "metadata": {},
   "outputs": [
    {
     "data": {
      "text/html": [
       "<div>\n",
       "<style scoped>\n",
       "    .dataframe tbody tr th:only-of-type {\n",
       "        vertical-align: middle;\n",
       "    }\n",
       "\n",
       "    .dataframe tbody tr th {\n",
       "        vertical-align: top;\n",
       "    }\n",
       "\n",
       "    .dataframe thead th {\n",
       "        text-align: right;\n",
       "    }\n",
       "</style>\n",
       "<table border=\"1\" class=\"dataframe\">\n",
       "  <thead>\n",
       "    <tr style=\"text-align: right;\">\n",
       "      <th></th>\n",
       "      <th>Date/Time</th>\n",
       "      <th>Lat</th>\n",
       "      <th>Lon</th>\n",
       "      <th>Base</th>\n",
       "    </tr>\n",
       "  </thead>\n",
       "  <tbody>\n",
       "    <tr>\n",
       "      <td>0</td>\n",
       "      <td>4/1/2014 0:11:00</td>\n",
       "      <td>40.7690</td>\n",
       "      <td>-73.9549</td>\n",
       "      <td>B02512</td>\n",
       "    </tr>\n",
       "    <tr>\n",
       "      <td>1</td>\n",
       "      <td>4/1/2014 0:17:00</td>\n",
       "      <td>40.7267</td>\n",
       "      <td>-74.0345</td>\n",
       "      <td>B02512</td>\n",
       "    </tr>\n",
       "    <tr>\n",
       "      <td>2</td>\n",
       "      <td>4/1/2014 0:21:00</td>\n",
       "      <td>40.7316</td>\n",
       "      <td>-73.9873</td>\n",
       "      <td>B02512</td>\n",
       "    </tr>\n",
       "    <tr>\n",
       "      <td>3</td>\n",
       "      <td>4/1/2014 0:28:00</td>\n",
       "      <td>40.7588</td>\n",
       "      <td>-73.9776</td>\n",
       "      <td>B02512</td>\n",
       "    </tr>\n",
       "    <tr>\n",
       "      <td>4</td>\n",
       "      <td>4/1/2014 0:33:00</td>\n",
       "      <td>40.7594</td>\n",
       "      <td>-73.9722</td>\n",
       "      <td>B02512</td>\n",
       "    </tr>\n",
       "  </tbody>\n",
       "</table>\n",
       "</div>"
      ],
      "text/plain": [
       "          Date/Time      Lat      Lon    Base\n",
       "0  4/1/2014 0:11:00  40.7690 -73.9549  B02512\n",
       "1  4/1/2014 0:17:00  40.7267 -74.0345  B02512\n",
       "2  4/1/2014 0:21:00  40.7316 -73.9873  B02512\n",
       "3  4/1/2014 0:28:00  40.7588 -73.9776  B02512\n",
       "4  4/1/2014 0:33:00  40.7594 -73.9722  B02512"
      ]
     },
     "execution_count": 3,
     "metadata": {},
     "output_type": "execute_result"
    }
   ],
   "source": [
    "# for printing the header\n",
    "data.head()"
   ]
  },
  {
   "cell_type": "code",
   "execution_count": 4,
   "metadata": {},
   "outputs": [
    {
     "data": {
      "text/plain": [
       "0           4/1/2014 0:11:00\n",
       "1           4/1/2014 0:17:00\n",
       "2           4/1/2014 0:21:00\n",
       "3           4/1/2014 0:28:00\n",
       "4           4/1/2014 0:33:00\n",
       "                 ...        \n",
       "564511    4/30/2014 23:22:00\n",
       "564512    4/30/2014 23:26:00\n",
       "564513    4/30/2014 23:31:00\n",
       "564514    4/30/2014 23:32:00\n",
       "564515    4/30/2014 23:48:00\n",
       "Name: Date/Time, Length: 564516, dtype: object"
      ]
     },
     "execution_count": 4,
     "metadata": {},
     "output_type": "execute_result"
    }
   ],
   "source": [
    "data['Date/Time']"
   ]
  },
  {
   "cell_type": "code",
   "execution_count": 5,
   "metadata": {},
   "outputs": [
    {
     "data": {
      "text/plain": [
       "pandas.core.series.Series"
      ]
     },
     "execution_count": 5,
     "metadata": {},
     "output_type": "execute_result"
    }
   ],
   "source": [
    "type(data['Date/Time'])"
   ]
  },
  {
   "cell_type": "markdown",
   "metadata": {},
   "source": [
    "# convert datetime "
   ]
  },
  {
   "cell_type": "code",
   "execution_count": 6,
   "metadata": {},
   "outputs": [],
   "source": [
    "dt = '4/1/2014 0:11:00'"
   ]
  },
  {
   "cell_type": "code",
   "execution_count": 7,
   "metadata": {},
   "outputs": [
    {
     "data": {
      "text/plain": [
       "str"
      ]
     },
     "execution_count": 7,
     "metadata": {},
     "output_type": "execute_result"
    }
   ],
   "source": [
    "type(dt)"
   ]
  },
  {
   "cell_type": "code",
   "execution_count": 8,
   "metadata": {},
   "outputs": [
    {
     "data": {
      "text/plain": [
       "Timestamp('2014-04-01 00:11:00')"
      ]
     },
     "execution_count": 8,
     "metadata": {},
     "output_type": "execute_result"
    }
   ],
   "source": [
    "dt = pd.to_datetime(dt)\n",
    "dt"
   ]
  },
  {
   "cell_type": "code",
   "execution_count": 10,
   "metadata": {},
   "outputs": [
    {
     "data": {
      "text/html": [
       "<div>\n",
       "<style scoped>\n",
       "    .dataframe tbody tr th:only-of-type {\n",
       "        vertical-align: middle;\n",
       "    }\n",
       "\n",
       "    .dataframe tbody tr th {\n",
       "        vertical-align: top;\n",
       "    }\n",
       "\n",
       "    .dataframe thead th {\n",
       "        text-align: right;\n",
       "    }\n",
       "</style>\n",
       "<table border=\"1\" class=\"dataframe\">\n",
       "  <thead>\n",
       "    <tr style=\"text-align: right;\">\n",
       "      <th></th>\n",
       "      <th>Date/Time</th>\n",
       "      <th>Lat</th>\n",
       "      <th>Lon</th>\n",
       "      <th>Base</th>\n",
       "    </tr>\n",
       "  </thead>\n",
       "  <tbody>\n",
       "    <tr>\n",
       "      <td>0</td>\n",
       "      <td>2014-04-01 00:11:00</td>\n",
       "      <td>40.7690</td>\n",
       "      <td>-73.9549</td>\n",
       "      <td>B02512</td>\n",
       "    </tr>\n",
       "    <tr>\n",
       "      <td>1</td>\n",
       "      <td>2014-04-01 00:17:00</td>\n",
       "      <td>40.7267</td>\n",
       "      <td>-74.0345</td>\n",
       "      <td>B02512</td>\n",
       "    </tr>\n",
       "    <tr>\n",
       "      <td>2</td>\n",
       "      <td>2014-04-01 00:21:00</td>\n",
       "      <td>40.7316</td>\n",
       "      <td>-73.9873</td>\n",
       "      <td>B02512</td>\n",
       "    </tr>\n",
       "    <tr>\n",
       "      <td>3</td>\n",
       "      <td>2014-04-01 00:28:00</td>\n",
       "      <td>40.7588</td>\n",
       "      <td>-73.9776</td>\n",
       "      <td>B02512</td>\n",
       "    </tr>\n",
       "    <tr>\n",
       "      <td>4</td>\n",
       "      <td>2014-04-01 00:33:00</td>\n",
       "      <td>40.7594</td>\n",
       "      <td>-73.9722</td>\n",
       "      <td>B02512</td>\n",
       "    </tr>\n",
       "    <tr>\n",
       "      <td>...</td>\n",
       "      <td>...</td>\n",
       "      <td>...</td>\n",
       "      <td>...</td>\n",
       "      <td>...</td>\n",
       "    </tr>\n",
       "    <tr>\n",
       "      <td>564511</td>\n",
       "      <td>2014-04-30 23:22:00</td>\n",
       "      <td>40.7640</td>\n",
       "      <td>-73.9744</td>\n",
       "      <td>B02764</td>\n",
       "    </tr>\n",
       "    <tr>\n",
       "      <td>564512</td>\n",
       "      <td>2014-04-30 23:26:00</td>\n",
       "      <td>40.7629</td>\n",
       "      <td>-73.9672</td>\n",
       "      <td>B02764</td>\n",
       "    </tr>\n",
       "    <tr>\n",
       "      <td>564513</td>\n",
       "      <td>2014-04-30 23:31:00</td>\n",
       "      <td>40.7443</td>\n",
       "      <td>-73.9889</td>\n",
       "      <td>B02764</td>\n",
       "    </tr>\n",
       "    <tr>\n",
       "      <td>564514</td>\n",
       "      <td>2014-04-30 23:32:00</td>\n",
       "      <td>40.6756</td>\n",
       "      <td>-73.9405</td>\n",
       "      <td>B02764</td>\n",
       "    </tr>\n",
       "    <tr>\n",
       "      <td>564515</td>\n",
       "      <td>2014-04-30 23:48:00</td>\n",
       "      <td>40.6880</td>\n",
       "      <td>-73.9608</td>\n",
       "      <td>B02764</td>\n",
       "    </tr>\n",
       "  </tbody>\n",
       "</table>\n",
       "<p>564516 rows × 4 columns</p>\n",
       "</div>"
      ],
      "text/plain": [
       "                 Date/Time      Lat      Lon    Base\n",
       "0      2014-04-01 00:11:00  40.7690 -73.9549  B02512\n",
       "1      2014-04-01 00:17:00  40.7267 -74.0345  B02512\n",
       "2      2014-04-01 00:21:00  40.7316 -73.9873  B02512\n",
       "3      2014-04-01 00:28:00  40.7588 -73.9776  B02512\n",
       "4      2014-04-01 00:33:00  40.7594 -73.9722  B02512\n",
       "...                    ...      ...      ...     ...\n",
       "564511 2014-04-30 23:22:00  40.7640 -73.9744  B02764\n",
       "564512 2014-04-30 23:26:00  40.7629 -73.9672  B02764\n",
       "564513 2014-04-30 23:31:00  40.7443 -73.9889  B02764\n",
       "564514 2014-04-30 23:32:00  40.6756 -73.9405  B02764\n",
       "564515 2014-04-30 23:48:00  40.6880 -73.9608  B02764\n",
       "\n",
       "[564516 rows x 4 columns]"
      ]
     },
     "execution_count": 10,
     "metadata": {},
     "output_type": "execute_result"
    }
   ],
   "source": [
    "data['Date/Time']= data['Date/Time'].map(pd.to_datetime)\n",
    "data\n",
    "# another way is by parsing date"
   ]
  },
  {
   "cell_type": "code",
   "execution_count": 11,
   "metadata": {},
   "outputs": [
    {
     "data": {
      "text/plain": [
       "Timestamp('2014-04-01 00:11:00')"
      ]
     },
     "execution_count": 11,
     "metadata": {},
     "output_type": "execute_result"
    }
   ],
   "source": [
    "data['Date/Time'][0]"
   ]
  },
  {
   "cell_type": "code",
   "execution_count": 12,
   "metadata": {},
   "outputs": [
    {
     "data": {
      "text/plain": [
       "1"
      ]
     },
     "execution_count": 12,
     "metadata": {},
     "output_type": "execute_result"
    }
   ],
   "source": [
    "dt = data['Date/Time'][0]\n",
    "dt.day"
   ]
  },
  {
   "cell_type": "markdown",
   "metadata": {},
   "source": [
    "# add some column"
   ]
  },
  {
   "cell_type": "code",
   "execution_count": 13,
   "metadata": {},
   "outputs": [],
   "source": [
    "def get_dom(dt):\n",
    "    return dt.day\n",
    "data['dom'] = data['Date/Time'].map(get_dom)\n",
    "# create a new column\n",
    "# passing a function..note: no need to call func as our map does that."
   ]
  },
  {
   "cell_type": "code",
   "execution_count": 14,
   "metadata": {},
   "outputs": [
    {
     "data": {
      "text/html": [
       "<div>\n",
       "<style scoped>\n",
       "    .dataframe tbody tr th:only-of-type {\n",
       "        vertical-align: middle;\n",
       "    }\n",
       "\n",
       "    .dataframe tbody tr th {\n",
       "        vertical-align: top;\n",
       "    }\n",
       "\n",
       "    .dataframe thead th {\n",
       "        text-align: right;\n",
       "    }\n",
       "</style>\n",
       "<table border=\"1\" class=\"dataframe\">\n",
       "  <thead>\n",
       "    <tr style=\"text-align: right;\">\n",
       "      <th></th>\n",
       "      <th>Date/Time</th>\n",
       "      <th>Lat</th>\n",
       "      <th>Lon</th>\n",
       "      <th>Base</th>\n",
       "      <th>dom</th>\n",
       "    </tr>\n",
       "  </thead>\n",
       "  <tbody>\n",
       "    <tr>\n",
       "      <td>564511</td>\n",
       "      <td>2014-04-30 23:22:00</td>\n",
       "      <td>40.7640</td>\n",
       "      <td>-73.9744</td>\n",
       "      <td>B02764</td>\n",
       "      <td>30</td>\n",
       "    </tr>\n",
       "    <tr>\n",
       "      <td>564512</td>\n",
       "      <td>2014-04-30 23:26:00</td>\n",
       "      <td>40.7629</td>\n",
       "      <td>-73.9672</td>\n",
       "      <td>B02764</td>\n",
       "      <td>30</td>\n",
       "    </tr>\n",
       "    <tr>\n",
       "      <td>564513</td>\n",
       "      <td>2014-04-30 23:31:00</td>\n",
       "      <td>40.7443</td>\n",
       "      <td>-73.9889</td>\n",
       "      <td>B02764</td>\n",
       "      <td>30</td>\n",
       "    </tr>\n",
       "    <tr>\n",
       "      <td>564514</td>\n",
       "      <td>2014-04-30 23:32:00</td>\n",
       "      <td>40.6756</td>\n",
       "      <td>-73.9405</td>\n",
       "      <td>B02764</td>\n",
       "      <td>30</td>\n",
       "    </tr>\n",
       "    <tr>\n",
       "      <td>564515</td>\n",
       "      <td>2014-04-30 23:48:00</td>\n",
       "      <td>40.6880</td>\n",
       "      <td>-73.9608</td>\n",
       "      <td>B02764</td>\n",
       "      <td>30</td>\n",
       "    </tr>\n",
       "  </tbody>\n",
       "</table>\n",
       "</div>"
      ],
      "text/plain": [
       "                 Date/Time      Lat      Lon    Base  dom\n",
       "564511 2014-04-30 23:22:00  40.7640 -73.9744  B02764   30\n",
       "564512 2014-04-30 23:26:00  40.7629 -73.9672  B02764   30\n",
       "564513 2014-04-30 23:31:00  40.7443 -73.9889  B02764   30\n",
       "564514 2014-04-30 23:32:00  40.6756 -73.9405  B02764   30\n",
       "564515 2014-04-30 23:48:00  40.6880 -73.9608  B02764   30"
      ]
     },
     "execution_count": 14,
     "metadata": {},
     "output_type": "execute_result"
    }
   ],
   "source": [
    "data.tail()"
   ]
  },
  {
   "cell_type": "code",
   "execution_count": 15,
   "metadata": {},
   "outputs": [],
   "source": [
    "def get_weekday(dt): \n",
    "    return dt.weekday() \n",
    "data['weekday'] = data['Date/Time'].map(get_weekday)\n",
    "def get_hour(dt):\n",
    "    return dt.hour\n",
    "data['hour'] = data['Date/Time'].map(get_hour)"
   ]
  },
  {
   "cell_type": "code",
   "execution_count": 16,
   "metadata": {},
   "outputs": [
    {
     "data": {
      "text/plain": [
       "pandas.core.series.Series"
      ]
     },
     "execution_count": 16,
     "metadata": {},
     "output_type": "execute_result"
    }
   ],
   "source": [
    "data.tail()\n",
    "type(data['weekday'])"
   ]
  },
  {
   "cell_type": "code",
   "execution_count": 17,
   "metadata": {},
   "outputs": [
    {
     "data": {
      "text/html": [
       "<div>\n",
       "<style scoped>\n",
       "    .dataframe tbody tr th:only-of-type {\n",
       "        vertical-align: middle;\n",
       "    }\n",
       "\n",
       "    .dataframe tbody tr th {\n",
       "        vertical-align: top;\n",
       "    }\n",
       "\n",
       "    .dataframe thead th {\n",
       "        text-align: right;\n",
       "    }\n",
       "</style>\n",
       "<table border=\"1\" class=\"dataframe\">\n",
       "  <thead>\n",
       "    <tr style=\"text-align: right;\">\n",
       "      <th></th>\n",
       "      <th>Date/Time</th>\n",
       "      <th>Lat</th>\n",
       "      <th>Lon</th>\n",
       "      <th>Base</th>\n",
       "      <th>dom</th>\n",
       "      <th>weekday</th>\n",
       "      <th>hour</th>\n",
       "    </tr>\n",
       "  </thead>\n",
       "  <tbody>\n",
       "    <tr>\n",
       "      <td>564511</td>\n",
       "      <td>2014-04-30 23:22:00</td>\n",
       "      <td>40.7640</td>\n",
       "      <td>-73.9744</td>\n",
       "      <td>B02764</td>\n",
       "      <td>30</td>\n",
       "      <td>2</td>\n",
       "      <td>23</td>\n",
       "    </tr>\n",
       "    <tr>\n",
       "      <td>564512</td>\n",
       "      <td>2014-04-30 23:26:00</td>\n",
       "      <td>40.7629</td>\n",
       "      <td>-73.9672</td>\n",
       "      <td>B02764</td>\n",
       "      <td>30</td>\n",
       "      <td>2</td>\n",
       "      <td>23</td>\n",
       "    </tr>\n",
       "    <tr>\n",
       "      <td>564513</td>\n",
       "      <td>2014-04-30 23:31:00</td>\n",
       "      <td>40.7443</td>\n",
       "      <td>-73.9889</td>\n",
       "      <td>B02764</td>\n",
       "      <td>30</td>\n",
       "      <td>2</td>\n",
       "      <td>23</td>\n",
       "    </tr>\n",
       "    <tr>\n",
       "      <td>564514</td>\n",
       "      <td>2014-04-30 23:32:00</td>\n",
       "      <td>40.6756</td>\n",
       "      <td>-73.9405</td>\n",
       "      <td>B02764</td>\n",
       "      <td>30</td>\n",
       "      <td>2</td>\n",
       "      <td>23</td>\n",
       "    </tr>\n",
       "    <tr>\n",
       "      <td>564515</td>\n",
       "      <td>2014-04-30 23:48:00</td>\n",
       "      <td>40.6880</td>\n",
       "      <td>-73.9608</td>\n",
       "      <td>B02764</td>\n",
       "      <td>30</td>\n",
       "      <td>2</td>\n",
       "      <td>23</td>\n",
       "    </tr>\n",
       "  </tbody>\n",
       "</table>\n",
       "</div>"
      ],
      "text/plain": [
       "                 Date/Time      Lat      Lon    Base  dom  weekday  hour\n",
       "564511 2014-04-30 23:22:00  40.7640 -73.9744  B02764   30        2    23\n",
       "564512 2014-04-30 23:26:00  40.7629 -73.9672  B02764   30        2    23\n",
       "564513 2014-04-30 23:31:00  40.7443 -73.9889  B02764   30        2    23\n",
       "564514 2014-04-30 23:32:00  40.6756 -73.9405  B02764   30        2    23\n",
       "564515 2014-04-30 23:48:00  40.6880 -73.9608  B02764   30        2    23"
      ]
     },
     "execution_count": 17,
     "metadata": {},
     "output_type": "execute_result"
    }
   ],
   "source": [
    "data.tail()"
   ]
  },
  {
   "cell_type": "markdown",
   "metadata": {},
   "source": [
    "# analysis"
   ]
  },
  {
   "cell_type": "markdown",
   "metadata": {},
   "source": [
    "# analysis DoM"
   ]
  },
  {
   "cell_type": "code",
   "execution_count": 21,
   "metadata": {},
   "outputs": [
    {
     "data": {
      "text/plain": [
       "(array([52721., 59680., 52581., 58631., 45427., 56764., 38781., 60673.,\n",
       "        64697., 74561.]),\n",
       " array([ 1. ,  3.9,  6.8,  9.7, 12.6, 15.5, 18.4, 21.3, 24.2, 27.1, 30. ]),\n",
       " <a list of 10 Patch objects>)"
      ]
     },
     "execution_count": 21,
     "metadata": {},
     "output_type": "execute_result"
    },
    {
     "data": {
      "image/png": "[encoded data removed]",
      "text/plain": [
       "<Figure size 432x288 with 1 Axes>"
      ]
     },
     "metadata": {
      "needs_background": "light"
     },
     "output_type": "display_data"
    }
   ],
   "source": [
    "hist(data.dom)"
   ]
  },
  {
   "cell_type": "code",
   "execution_count": 22,
   "metadata": {},
   "outputs": [
    {
     "data": {
      "text/plain": [
       "(array([14546., 17474., 20701., 26714., 19521., 13445., 19550., 16188.,\n",
       "        16843., 20041., 20420., 18170., 12112., 12674., 20641., 17717.,\n",
       "        20973., 18074., 14602., 11017., 13162., 16975., 20346., 23352.,\n",
       "        25095., 24925., 14677., 15475., 22835., 36251.]),\n",
       " array([ 1.        ,  1.96666667,  2.93333333,  3.9       ,  4.86666667,\n",
       "         5.83333333,  6.8       ,  7.76666667,  8.73333333,  9.7       ,\n",
       "        10.66666667, 11.63333333, 12.6       , 13.56666667, 14.53333333,\n",
       "        15.5       , 16.46666667, 17.43333333, 18.4       , 19.36666667,\n",
       "        20.33333333, 21.3       , 22.26666667, 23.23333333, 24.2       ,\n",
       "        25.16666667, 26.13333333, 27.1       , 28.06666667, 29.03333333,\n",
       "        30.        ]),\n",
       " <a list of 30 Patch objects>)"
      ]
     },
     "execution_count": 22,
     "metadata": {},
     "output_type": "execute_result"
    },
    {
     "data": {
      "image/png": "[encoded data removed]",
      "text/plain": [
       "<Figure size 432x288 with 1 Axes>"
      ]
     },
     "metadata": {
      "needs_background": "light"
     },
     "output_type": "display_data"
    }
   ],
   "source": [
    "hist(data.dom,bins=30)"
   ]
  },
  {
   "cell_type": "code",
   "execution_count": 28,
   "metadata": {},
   "outputs": [
    {
     "data": {
      "text/plain": [
       "(array([14546., 17474., 20701., 26714., 19521., 13445., 19550., 16188.,\n",
       "        16843., 20041., 20420., 18170., 12112., 12674., 20641., 17717.,\n",
       "        20973., 18074., 14602., 11017., 13162., 16975., 20346., 23352.,\n",
       "        25095., 24925., 14677., 15475., 22835., 36251.]),\n",
       " array([ 0.5,  1.5,  2.5,  3.5,  4.5,  5.5,  6.5,  7.5,  8.5,  9.5, 10.5,\n",
       "        11.5, 12.5, 13.5, 14.5, 15.5, 16.5, 17.5, 18.5, 19.5, 20.5, 21.5,\n",
       "        22.5, 23.5, 24.5, 25.5, 26.5, 27.5, 28.5, 29.5, 30.5]),\n",
       " <a list of 30 Patch objects>)"
      ]
     },
     "execution_count": 28,
     "metadata": {},
     "output_type": "execute_result"
    },
    {
     "data": {
      "image/png": "[encoded data removed]",
      "text/plain": [
       "<Figure size 432x288 with 1 Axes>"
      ]
     },
     "metadata": {
      "needs_background": "light"
     },
     "output_type": "display_data"
    }
   ],
   "source": [
    "hist(data.dom,bins=30,rwidth=0.8,range=(0.5,30.5))"
   ]
  },
  {
   "cell_type": "code",
   "execution_count": 31,
   "metadata": {},
   "outputs": [
    {
     "data": {
      "text/plain": [
       "Text(0.5, 1.0, 'frequency by dom -uber- april 2014')"
      ]
     },
     "execution_count": 31,
     "metadata": {},
     "output_type": "execute_result"
    },
    {
     "data": {
      "image/png": "[encoded data removed]",
      "text/plain": [
       "<Figure size 432x288 with 1 Axes>"
      ]
     },
     "metadata": {
      "needs_background": "light"
     },
     "output_type": "display_data"
    }
   ],
   "source": [
    "hist(data.dom,bins=30,rwidth=0.8,range=(0.5,30.5))\n",
    "xlabel('date of the month')\n",
    "ylabel('frequency')\n",
    "title('frequency by dom -uber- april 2014')"
   ]
  },
  {
   "cell_type": "markdown",
   "metadata": {},
   "source": [
    "# use groupby"
   ]
  },
  {
   "cell_type": "code",
   "execution_count": 37,
   "metadata": {},
   "outputs": [
    {
     "name": "stdout",
     "output_type": "stream",
     "text": [
      "[1,                  Date/Time      Lat      Lon    Base  dom  weekday  hour\n",
      "0      2014-04-01 00:11:00  40.7690 -73.9549  B02512    1        1     0\n",
      "1      2014-04-01 00:17:00  40.7267 -74.0345  B02512    1        1     0\n",
      "2      2014-04-01 00:21:00  40.7316 -73.9873  B02512    1        1     0\n",
      "3      2014-04-01 00:28:00  40.7588 -73.9776  B02512    1        1     0\n",
      "4      2014-04-01 00:33:00  40.7594 -73.9722  B02512    1        1     0\n",
      "...                    ...      ...      ...     ...  ...      ...   ...\n",
      "554926 2014-04-01 23:21:00  40.7219 -73.9920  B02764    1        1    23\n",
      "554927 2014-04-01 23:25:00  40.7261 -74.0027  B02764    1        1    23\n",
      "554928 2014-04-01 23:38:00  40.7364 -73.9926  B02764    1        1    23\n",
      "554929 2014-04-01 23:41:00  40.7149 -73.9405  B02764    1        1    23\n",
      "554930 2014-04-01 23:46:00  40.7493 -73.9768  B02764    1        1    23\n",
      "\n",
      "[14546 rows x 7 columns]]\n",
      "[2,                  Date/Time      Lat      Lon    Base  dom  weekday  hour\n",
      "1011   2014-04-02 00:00:00  40.7458 -73.9843  B02512    2        2     0\n",
      "1012   2014-04-02 00:05:00  40.7285 -74.0467  B02512    2        2     0\n",
      "1013   2014-04-02 00:07:00  40.7732 -73.9546  B02512    2        2     0\n",
      "1014   2014-04-02 00:11:00  40.6550 -73.9786  B02512    2        2     0\n",
      "1015   2014-04-02 00:21:00  40.7405 -74.0040  B02512    2        2     0\n",
      "...                    ...      ...      ...     ...  ...      ...   ...\n",
      "555271 2014-04-02 22:58:00  40.7360 -74.0291  B02764    2        2    22\n",
      "555272 2014-04-02 23:02:00  40.6449 -73.7821  B02764    2        2    23\n",
      "555273 2014-04-02 23:17:00  40.7721 -73.9641  B02764    2        2    23\n",
      "555274 2014-04-02 23:32:00  40.7599 -73.9874  B02764    2        2    23\n",
      "555275 2014-04-02 23:42:00  40.7512 -73.9912  B02764    2        2    23\n",
      "\n",
      "[17474 rows x 7 columns]]\n",
      "[3,                  Date/Time      Lat      Lon    Base  dom  weekday  hour\n",
      "2347   2014-04-03 00:00:00  40.7422 -74.0062  B02512    3        3     0\n",
      "2348   2014-04-03 00:02:00  40.7239 -74.0034  B02512    3        3     0\n",
      "2349   2014-04-03 00:02:00  40.7239 -74.0034  B02512    3        3     0\n",
      "2350   2014-04-03 00:02:00  40.7104 -74.0118  B02512    3        3     0\n",
      "2351   2014-04-03 00:10:00  40.7221 -73.9837  B02512    3        3     0\n",
      "...                    ...      ...      ...     ...  ...      ...   ...\n",
      "555676 2014-04-03 23:32:00  40.7588 -73.9707  B02764    3        3    23\n",
      "555677 2014-04-03 23:32:00  40.6734 -74.1914  B02764    3        3    23\n",
      "555678 2014-04-03 23:40:00  40.7294 -74.0034  B02764    3        3    23\n",
      "555679 2014-04-03 23:46:00  40.7597 -73.9729  B02764    3        3    23\n",
      "555680 2014-04-03 23:55:00  40.7203 -74.0022  B02764    3        3    23\n",
      "\n",
      "[20701 rows x 7 columns]]\n",
      "[4,                  Date/Time      Lat      Lon    Base  dom  weekday  hour\n",
      "3829   2014-04-04 00:03:00  40.7528 -73.9858  B02512    4        4     0\n",
      "3830   2014-04-04 00:05:00  40.7263 -74.0018  B02512    4        4     0\n",
      "3831   2014-04-04 00:12:00  40.7263 -73.9917  B02512    4        4     0\n",
      "3832   2014-04-04 00:12:00  40.7813 -73.9516  B02512    4        4     0\n",
      "3833   2014-04-04 00:14:00  40.7170 -73.9987  B02512    4        4     0\n",
      "...                    ...      ...      ...     ...  ...      ...   ...\n",
      "556160 2014-04-04 23:50:00  40.7747 -73.9633  B02764    4        4    23\n",
      "556161 2014-04-04 23:52:00  40.7545 -73.9892  B02764    4        4    23\n",
      "556162 2014-04-04 23:56:00  40.7747 -73.9482  B02764    4        4    23\n",
      "556163 2014-04-04 23:57:00  40.7267 -74.0055  B02764    4        4    23\n",
      "556164 2014-04-04 23:58:00  40.7317 -74.0033  B02764    4        4    23\n",
      "\n",
      "[26714 rows x 7 columns]]\n",
      "[5,                  Date/Time      Lat      Lon    Base  dom  weekday  hour\n",
      "5656   2014-04-05 00:00:00  40.7690 -73.9825  B02512    5        5     0\n",
      "5657   2014-04-05 00:00:00  40.7594 -73.9641  B02512    5        5     0\n",
      "5658   2014-04-05 00:01:00  40.7113 -74.0173  B02512    5        5     0\n",
      "5659   2014-04-05 00:02:00  40.8060 -73.9652  B02512    5        5     0\n",
      "5660   2014-04-05 00:04:00  40.7211 -74.0042  B02512    5        5     0\n",
      "...                    ...      ...      ...     ...  ...      ...   ...\n",
      "556533 2014-04-05 23:52:00  40.7287 -73.9877  B02764    5        5    23\n",
      "556534 2014-04-05 23:53:00  40.7441 -73.9898  B02764    5        5    23\n",
      "556535 2014-04-05 23:54:00  40.7239 -73.9911  B02764    5        5    23\n",
      "556536 2014-04-05 23:55:00  40.7324 -73.9849  B02764    5        5    23\n",
      "556537 2014-04-05 23:59:00  40.7221 -73.9999  B02764    5        5    23\n",
      "\n",
      "[19521 rows x 7 columns]]\n",
      "[6,                  Date/Time      Lat      Lon    Base  dom  weekday  hour\n",
      "6965   2014-04-06 00:00:00  40.6547 -74.3033  B02512    6        6     0\n",
      "6966   2014-04-06 00:00:00  40.7356 -74.0006  B02512    6        6     0\n",
      "6967   2014-04-06 00:00:00  40.7421 -74.0041  B02512    6        6     0\n",
      "6968   2014-04-06 00:00:00  40.7401 -74.0053  B02512    6        6     0\n",
      "6969   2014-04-06 00:01:00  40.7368 -73.9877  B02512    6        6     0\n",
      "...                    ...      ...      ...     ...  ...      ...   ...\n",
      "556743 2014-04-06 22:38:00  40.6574 -73.9623  B02764    6        6    22\n",
      "556744 2014-04-06 22:47:00  40.7552 -73.9870  B02764    6        6    22\n",
      "556745 2014-04-06 23:03:00  40.7605 -73.9986  B02764    6        6    23\n",
      "556746 2014-04-06 23:19:00  40.7560 -73.9966  B02764    6        6    23\n",
      "556747 2014-04-06 23:30:00  40.7574 -73.9850  B02764    6        6    23\n",
      "\n",
      "[13445 rows x 7 columns]]\n",
      "[7,                  Date/Time      Lat      Lon    Base  dom  weekday  hour\n",
      "7785   2014-04-07 00:31:00  40.7205 -73.9939  B02512    7        0     0\n",
      "7786   2014-04-07 00:37:00  40.7407 -74.0077  B02512    7        0     0\n",
      "7787   2014-04-07 00:50:00  40.7591 -73.9892  B02512    7        0     0\n",
      "7788   2014-04-07 00:58:00  40.7419 -74.0034  B02512    7        0     0\n",
      "7789   2014-04-07 01:27:00  40.7419 -74.0034  B02512    7        0     1\n",
      "...                    ...      ...      ...     ...  ...      ...   ...\n",
      "557035 2014-04-07 22:55:00  40.7744 -73.8727  B02764    7        0    22\n",
      "557036 2014-04-07 23:06:00  40.7449 -73.9890  B02764    7        0    23\n",
      "557037 2014-04-07 23:17:00  40.7421 -74.0039  B02764    7        0    23\n",
      "557038 2014-04-07 23:25:00  40.7742 -73.9612  B02764    7        0    23\n",
      "557039 2014-04-07 23:34:00  40.7741 -73.8729  B02764    7        0    23\n",
      "\n",
      "[19550 rows x 7 columns]]\n",
      "[8,                  Date/Time      Lat      Lon    Base  dom  weekday  hour\n",
      "9161   2014-04-08 00:04:00  40.6459 -73.7768  B02512    8        1     0\n",
      "9162   2014-04-08 00:05:00  40.7464 -73.9779  B02512    8        1     0\n",
      "9163   2014-04-08 00:09:00  40.7188 -74.0111  B02512    8        1     0\n",
      "9164   2014-04-08 00:09:00  40.7342 -73.9503  B02512    8        1     0\n",
      "9165   2014-04-08 00:13:00  40.6896 -73.9810  B02512    8        1     0\n",
      "...                    ...      ...      ...     ...  ...      ...   ...\n",
      "557311 2014-04-08 23:10:00  40.7500 -73.9755  B02764    8        1    23\n",
      "557312 2014-04-08 23:29:00  40.7294 -74.0016  B02764    8        1    23\n",
      "557313 2014-04-08 23:30:00  40.7103 -74.0094  B02764    8        1    23\n",
      "557314 2014-04-08 23:32:00  40.7630 -73.9762  B02764    8        1    23\n",
      "557315 2014-04-08 23:32:00  41.0336 -73.7537  B02764    8        1    23\n",
      "\n",
      "[16188 rows x 7 columns]]\n",
      "[9,                  Date/Time      Lat      Lon    Base  dom  weekday  hour\n",
      "10184  2014-04-09 00:04:00  40.7161 -73.9575  B02512    9        2     0\n",
      "10185  2014-04-09 00:06:00  40.6432 -73.7896  B02512    9        2     0\n",
      "10186  2014-04-09 00:09:00  40.7201 -74.0096  B02512    9        2     0\n",
      "10187  2014-04-09 00:34:00  40.7640 -73.9762  B02512    9        2     0\n",
      "10188  2014-04-09 00:40:00  40.6740 -73.9604  B02512    9        2     0\n",
      "...                    ...      ...      ...     ...  ...      ...   ...\n",
      "557636 2014-04-09 23:10:00  40.7332 -73.9900  B02764    9        2    23\n",
      "557637 2014-04-09 23:17:00  40.7370 -73.9918  B02764    9        2    23\n",
      "557638 2014-04-09 23:49:00  40.6880 -74.1813  B02764    9        2    23\n",
      "557639 2014-04-09 23:53:00  40.7559 -73.9861  B02764    9        2    23\n",
      "557640 2014-04-09 23:54:00  40.7173 -73.9583  B02764    9        2    23\n",
      "\n",
      "[16843 rows x 7 columns]]\n",
      "[10,                  Date/Time      Lat      Lon    Base  dom  weekday  hour\n",
      "11351  2014-04-10 00:03:00  40.8065 -73.9649  B02512   10        3     0\n",
      "11352  2014-04-10 00:03:00  40.7614 -73.9840  B02512   10        3     0\n",
      "11353  2014-04-10 00:18:00  40.7581 -73.9723  B02512   10        3     0\n",
      "11354  2014-04-10 00:29:00  40.7235 -74.0017  B02512   10        3     0\n",
      "11355  2014-04-10 00:32:00  40.7659 -73.9631  B02512   10        3     0\n",
      "...                    ...      ...      ...     ...  ...      ...   ...\n",
      "558008 2014-04-10 23:22:00  40.7269 -74.0020  B02764   10        3    23\n",
      "558009 2014-04-10 23:27:00  40.7118 -74.0103  B02764   10        3    23\n",
      "558010 2014-04-10 23:37:00  40.7154 -73.9665  B02764   10        3    23\n",
      "558011 2014-04-10 23:49:00  40.7349 -73.9872  B02764   10        3    23\n",
      "558012 2014-04-10 23:52:00  40.7400 -74.0032  B02764   10        3    23\n",
      "\n",
      "[20041 rows x 7 columns]]\n",
      "[11,                  Date/Time      Lat      Lon    Base  dom  weekday  hour\n",
      "12625  2014-04-11 00:02:00  40.7292 -73.9872  B02512   11        4     0\n",
      "12626  2014-04-11 00:07:00  40.7501 -73.9749  B02512   11        4     0\n",
      "12627  2014-04-11 00:08:00  40.7380 -74.0002  B02512   11        4     0\n",
      "12628  2014-04-11 00:13:00  40.7656 -73.9718  B02512   11        4     0\n",
      "12629  2014-04-11 00:15:00  40.7493 -73.9489  B02512   11        4     0\n",
      "...                    ...      ...      ...     ...  ...      ...   ...\n",
      "558326 2014-04-11 23:45:00  40.7312 -73.9887  B02764   11        4    23\n",
      "558327 2014-04-11 23:46:00  40.7620 -73.9847  B02764   11        4    23\n",
      "558328 2014-04-11 23:49:00  40.7347 -73.9997  B02764   11        4    23\n",
      "558329 2014-04-11 23:55:00  40.7366 -74.0289  B02764   11        4    23\n",
      "558330 2014-04-11 23:59:00  40.7204 -73.9882  B02764   11        4    23\n",
      "\n",
      "[20420 rows x 7 columns]]\n",
      "[12,                  Date/Time      Lat      Lon    Base  dom  weekday  hour\n",
      "13987  2014-04-12 00:00:00  40.7480 -73.9870  B02512   12        5     0\n",
      "13988  2014-04-12 00:01:00  40.7440 -73.9872  B02512   12        5     0\n",
      "13989  2014-04-12 00:03:00  40.7268 -73.9834  B02512   12        5     0\n",
      "13990  2014-04-12 00:08:00  40.7436 -74.0290  B02512   12        5     0\n",
      "13991  2014-04-12 00:08:00  40.7436 -74.0290  B02512   12        5     0\n",
      "...                    ...      ...      ...     ...  ...      ...   ...\n",
      "558694 2014-04-12 23:39:00  40.7431 -73.9929  B02764   12        5    23\n",
      "558695 2014-04-12 23:42:00  40.7383 -73.9878  B02764   12        5    23\n",
      "558696 2014-04-12 23:50:00  40.7263 -73.9834  B02764   12        5    23\n",
      "558697 2014-04-12 23:56:00  40.7352 -74.0099  B02764   12        5    23\n",
      "558698 2014-04-12 23:58:00  40.7193 -73.9924  B02764   12        5    23\n",
      "\n",
      "[18170 rows x 7 columns]]\n",
      "[13,                  Date/Time      Lat      Lon    Base  dom  weekday  hour\n",
      "15074  2014-04-13 00:01:00  40.7075 -73.9483  B02512   13        6     0\n",
      "15075  2014-04-13 00:02:00  40.7305 -73.9892  B02512   13        6     0\n",
      "15076  2014-04-13 00:03:00  40.7197 -74.0066  B02512   13        6     0\n",
      "15077  2014-04-13 00:03:00  40.7639 -73.9761  B02512   13        6     0\n",
      "15078  2014-04-13 00:03:00  40.7260 -73.9895  B02512   13        6     0\n",
      "...                    ...      ...      ...     ...  ...      ...   ...\n",
      "558904 2014-04-13 23:14:00  40.7579 -73.9757  B02764   13        6    23\n",
      "558905 2014-04-13 23:16:00  40.7438 -73.9881  B02764   13        6    23\n",
      "558906 2014-04-13 23:41:00  40.6881 -74.1831  B02764   13        6    23\n",
      "558907 2014-04-13 23:44:00  40.6450 -73.7818  B02764   13        6    23\n",
      "558908 2014-04-13 23:53:00  40.7330 -73.9874  B02764   13        6    23\n",
      "\n",
      "[12112 rows x 7 columns]]\n",
      "[14,                  Date/Time      Lat      Lon    Base  dom  weekday  hour\n",
      "15857  2014-04-14 00:02:00  40.7456 -73.9773  B02512   14        0     0\n",
      "15858  2014-04-14 00:03:00  40.7424 -74.1753  B02512   14        0     0\n",
      "15859  2014-04-14 00:14:00  40.7632 -73.9712  B02512   14        0     0\n",
      "15860  2014-04-14 00:24:00  40.7607 -73.9809  B02512   14        0     0\n",
      "15861  2014-04-14 00:30:00  40.7420 -74.0037  B02512   14        0     0\n",
      "...                    ...      ...      ...     ...  ...      ...   ...\n",
      "559147 2014-04-14 23:14:00  40.8257 -73.9389  B02764   14        0    23\n",
      "559148 2014-04-14 23:28:00  40.6865 -73.9547  B02764   14        0    23\n",
      "559149 2014-04-14 23:35:00  40.7582 -73.9819  B02764   14        0    23\n",
      "559150 2014-04-14 23:48:00  40.6948 -74.1776  B02764   14        0    23\n",
      "559151 2014-04-14 23:48:00  40.7415 -74.0012  B02764   14        0    23\n",
      "\n",
      "[12674 rows x 7 columns]]\n",
      "[15,                  Date/Time      Lat      Lon    Base  dom  weekday  hour\n",
      "16711  2014-04-15 00:15:00  40.6843 -73.9740  B02512   15        1     0\n",
      "16712  2014-04-15 00:18:00  40.7434 -73.9882  B02512   15        1     0\n",
      "16713  2014-04-15 00:22:00  40.7563 -73.9876  B02512   15        1     0\n",
      "16714  2014-04-15 00:24:00  40.7231 -74.0509  B02512   15        1     0\n",
      "16715  2014-04-15 00:29:00  40.7593 -73.9865  B02512   15        1     0\n",
      "...                    ...      ...      ...     ...  ...      ...   ...\n",
      "559475 2014-04-15 23:31:00  40.7311 -73.9887  B02764   15        1    23\n",
      "559476 2014-04-15 23:32:00  40.7084 -74.0122  B02764   15        1    23\n",
      "559477 2014-04-15 23:33:00  40.7628 -73.9757  B02764   15        1    23\n",
      "559478 2014-04-15 23:33:00  40.6924 -73.9888  B02764   15        1    23\n",
      "559479 2014-04-15 23:52:00  40.7175 -74.0054  B02764   15        1    23\n",
      "\n",
      "[20641 rows x 7 columns]]\n",
      "[16,                  Date/Time      Lat      Lon    Base  dom  weekday  hour\n",
      "18102  2014-04-16 00:00:00  40.7592 -73.9730  B02512   16        2     0\n",
      "18103  2014-04-16 00:01:00  40.7600 -73.9810  B02512   16        2     0\n",
      "18104  2014-04-16 00:13:00  40.7325 -74.0019  B02512   16        2     0\n",
      "18105  2014-04-16 00:13:00  40.7274 -73.9921  B02512   16        2     0\n",
      "18106  2014-04-16 00:19:00  40.7189 -74.0342  B02512   16        2     0\n",
      "...                    ...      ...      ...     ...  ...      ...   ...\n",
      "559767 2014-04-16 22:58:00  40.6483 -73.7832  B02764   16        2    22\n",
      "559768 2014-04-16 23:06:00  40.7758 -73.9561  B02764   16        2    23\n",
      "559769 2014-04-16 23:32:00  40.6953 -74.1775  B02764   16        2    23\n",
      "559770 2014-04-16 23:38:00  40.7432 -74.0038  B02764   16        2    23\n",
      "559771 2014-04-16 23:57:00  40.7395 -74.0018  B02764   16        2    23\n",
      "\n",
      "[17717 rows x 7 columns]]\n",
      "[17,                  Date/Time      Lat      Lon    Base  dom  weekday  hour\n",
      "19161  2014-04-17 00:00:00  40.7196 -73.9621  B02512   17        3     0\n",
      "19162  2014-04-17 00:04:00  40.6719 -73.9641  B02512   17        3     0\n",
      "19163  2014-04-17 00:07:00  40.7651 -73.9877  B02512   17        3     0\n",
      "19164  2014-04-17 00:25:00  40.7420 -74.0038  B02512   17        3     0\n",
      "19165  2014-04-17 00:26:00  40.7556 -73.9919  B02512   17        3     0\n",
      "...                    ...      ...      ...     ...  ...      ...   ...\n",
      "560131 2014-04-17 23:39:00  40.7145 -73.9996  B02764   17        3    23\n",
      "560132 2014-04-17 23:43:00  40.7343 -74.0030  B02764   17        3    23\n",
      "560133 2014-04-17 23:44:00  40.7351 -74.0063  B02764   17        3    23\n",
      "560134 2014-04-17 23:46:00  40.6951 -74.1787  B02764   17        3    23\n",
      "560135 2014-04-17 23:56:00  40.7279 -73.9893  B02764   17        3    23\n",
      "\n",
      "[20973 rows x 7 columns]]\n",
      "[18,                  Date/Time      Lat      Lon    Base  dom  weekday  hour\n",
      "20504  2014-04-18 00:00:00  40.8057 -73.9654  B02512   18        4     0\n",
      "20505  2014-04-18 00:01:00  40.7886 -73.9781  B02512   18        4     0\n",
      "20506  2014-04-18 00:01:00  40.7445 -73.9811  B02512   18        4     0\n",
      "20507  2014-04-18 00:01:00  40.7293 -73.9871  B02512   18        4     0\n",
      "20508  2014-04-18 00:02:00  40.7410 -74.0355  B02512   18        4     0\n",
      "...                    ...      ...      ...     ...  ...      ...   ...\n",
      "560481 2014-04-18 23:39:00  40.7487 -73.9733  B02764   18        4    23\n",
      "560482 2014-04-18 23:49:00  40.7221 -74.0089  B02764   18        4    23\n",
      "560483 2014-04-18 23:54:00  40.7328 -74.0025  B02764   18        4    23\n",
      "560484 2014-04-18 23:56:00  40.7323 -73.9964  B02764   18        4    23\n",
      "560485 2014-04-18 23:57:00  40.7386 -73.9876  B02764   18        4    23\n",
      "\n",
      "[18074 rows x 7 columns]]\n",
      "[19,                  Date/Time      Lat      Lon    Base  dom  weekday  hour\n",
      "21457  2014-04-19 00:02:00  40.7211 -73.9869  B02512   19        5     0\n",
      "21458  2014-04-19 00:04:00  40.7475 -73.9917  B02512   19        5     0\n",
      "21459  2014-04-19 00:05:00  40.7149 -74.0150  B02512   19        5     0\n",
      "21460  2014-04-19 00:06:00  40.7329 -73.9978  B02512   19        5     0\n",
      "21461  2014-04-19 00:06:00  40.7388 -73.9885  B02512   19        5     0\n",
      "...                    ...      ...      ...     ...  ...      ...   ...\n",
      "560730 2014-04-19 23:39:00  40.7526 -74.0003  B02764   19        5    23\n",
      "560731 2014-04-19 23:43:00  40.7988 -73.9640  B02764   19        5    23\n",
      "560732 2014-04-19 23:49:00  40.7232 -73.9898  B02764   19        5    23\n",
      "560733 2014-04-19 23:50:00  40.6706 -73.9449  B02764   19        5    23\n",
      "560734 2014-04-19 23:51:00  40.7345 -74.0030  B02764   19        5    23\n",
      "\n",
      "[14602 rows x 7 columns]]\n",
      "[20,                  Date/Time      Lat      Lon    Base  dom  weekday  hour\n",
      "22308  2014-04-20 00:00:00  40.7409 -74.0032  B02512   20        6     0\n",
      "22309  2014-04-20 00:02:00  40.7250 -73.9515  B02512   20        6     0\n",
      "22310  2014-04-20 00:06:00  40.7637 -73.9762  B02512   20        6     0\n",
      "22311  2014-04-20 00:06:00  40.7361 -73.9839  B02512   20        6     0\n",
      "22312  2014-04-20 00:08:00  40.7293 -73.9894  B02512   20        6     0\n",
      "...                    ...      ...      ...     ...  ...      ...   ...\n",
      "560975 2014-04-20 23:26:00  40.7552 -73.9788  B02764   20        6    23\n",
      "560976 2014-04-20 23:28:00  40.6864 -73.9146  B02764   20        6    23\n",
      "560977 2014-04-20 23:45:00  40.6949 -73.9344  B02764   20        6    23\n",
      "560978 2014-04-20 23:53:00  40.7286 -73.9929  B02764   20        6    23\n",
      "560979 2014-04-20 23:56:00  40.7693 -73.9674  B02764   20        6    23\n",
      "\n",
      "[11017 rows x 7 columns]]\n",
      "[21,                  Date/Time      Lat      Lon    Base  dom  weekday  hour\n",
      "22923  2014-04-21 00:01:00  40.7673 -73.9547  B02512   21        0     0\n",
      "22924  2014-04-21 00:12:00  40.7512 -73.8874  B02512   21        0     0\n",
      "22925  2014-04-21 00:40:00  40.7605 -73.9622  B02512   21        0     0\n",
      "22926  2014-04-21 00:42:00  40.6647 -73.8969  B02512   21        0     0\n",
      "22927  2014-04-21 01:01:00  40.7615 -73.9939  B02512   21        0     1\n",
      "...                    ...      ...      ...     ...  ...      ...   ...\n",
      "561189 2014-04-21 23:06:00  40.7646 -73.9742  B02764   21        0    23\n",
      "561190 2014-04-21 23:07:00  40.7476 -74.0297  B02764   21        0    23\n",
      "561191 2014-04-21 23:23:00  40.6459 -73.7767  B02764   21        0    23\n",
      "561192 2014-04-21 23:27:00  40.7134 -73.9587  B02764   21        0    23\n",
      "561193 2014-04-21 23:59:00  40.7300 -74.0005  B02764   21        0    23\n",
      "\n",
      "[13162 rows x 7 columns]]\n",
      "[22,                  Date/Time      Lat      Lon    Base  dom  weekday  hour\n",
      "23667  2014-04-22 00:05:00  40.7641 -73.9733  B02512   22        1     0\n",
      "23668  2014-04-22 00:26:00  40.7756 -73.9903  B02512   22        1     0\n",
      "23669  2014-04-22 00:53:00  40.7635 -73.9597  B02512   22        1     0\n",
      "23670  2014-04-22 03:00:00  40.7348 -73.9799  B02512   22        1     3\n",
      "23671  2014-04-22 03:01:00  40.7562 -73.9914  B02512   22        1     3\n",
      "...                    ...      ...      ...     ...  ...      ...   ...\n",
      "561463 2014-04-22 23:11:00  40.7092 -73.9392  B02764   22        1    23\n",
      "561464 2014-04-22 23:15:00  40.6878 -74.1811  B02764   22        1    23\n",
      "561465 2014-04-22 23:20:00  40.7548 -73.9835  B02764   22        1    23\n",
      "561466 2014-04-22 23:30:00  40.7114 -74.0168  B02764   22        1    23\n",
      "561467 2014-04-22 23:55:00  40.7390 -73.9912  B02764   22        1    23\n",
      "\n",
      "[16975 rows x 7 columns]]\n",
      "[23,                  Date/Time      Lat      Lon    Base  dom  weekday  hour\n",
      "24626  2014-04-23 00:00:00  40.7499 -73.9901  B02512   23        2     0\n",
      "24627  2014-04-23 00:00:00  40.7499 -73.9901  B02512   23        2     0\n",
      "24628  2014-04-23 00:01:00  40.7214 -73.8435  B02512   23        2     0\n",
      "24629  2014-04-23 00:07:00  40.7411 -73.9865  B02512   23        2     0\n",
      "24630  2014-04-23 00:25:00  40.7441 -73.9841  B02512   23        2     0\n",
      "...                    ...      ...      ...     ...  ...      ...   ...\n",
      "561814 2014-04-23 23:31:00  40.7379 -73.9935  B02764   23        2    23\n",
      "561815 2014-04-23 23:44:00  40.7683 -73.8622  B02764   23        2    23\n",
      "561816 2014-04-23 23:46:00  40.6764 -74.0162  B02764   23        2    23\n",
      "561817 2014-04-23 23:49:00  40.7647 -73.9956  B02764   23        2    23\n",
      "561818 2014-04-23 23:51:00  40.7078 -73.9469  B02764   23        2    23\n",
      "\n",
      "[20346 rows x 7 columns]]\n",
      "[24,                  Date/Time      Lat      Lon    Base  dom  weekday  hour\n",
      "25822  2014-04-24 00:01:00  40.7445 -73.9984  B02512   24        3     0\n",
      "25823  2014-04-24 00:08:00  40.8604 -74.1504  B02512   24        3     0\n",
      "25824  2014-04-24 00:09:00  40.7212 -73.9878  B02512   24        3     0\n",
      "25825  2014-04-24 00:15:00  40.7607 -73.9784  B02512   24        3     0\n",
      "25826  2014-04-24 00:16:00  40.7376 -74.0027  B02512   24        3     0\n",
      "...                    ...      ...      ...     ...  ...      ...   ...\n",
      "562227 2014-04-24 23:19:00  40.6880 -74.1815  B02764   24        3    23\n",
      "562228 2014-04-24 23:26:00  40.7323 -74.0036  B02764   24        3    23\n",
      "562229 2014-04-24 23:26:00  40.7138 -73.9794  B02764   24        3    23\n",
      "562230 2014-04-24 23:43:00  40.7595 -73.9813  B02764   24        3    23\n",
      "562231 2014-04-24 23:44:00  40.7418 -73.9901  B02764   24        3    23\n",
      "\n",
      "[23352 rows x 7 columns]]\n"
     ]
    },
    {
     "name": "stdout",
     "output_type": "stream",
     "text": [
      "[25,                  Date/Time      Lat      Lon    Base  dom  weekday  hour\n",
      "27216  2014-04-25 00:00:00  40.7239 -74.0039  B02512   25        4     0\n",
      "27217  2014-04-25 00:10:00  40.7523 -73.9953  B02512   25        4     0\n",
      "27218  2014-04-25 00:10:00  40.7523 -73.9953  B02512   25        4     0\n",
      "27219  2014-04-25 00:11:00  40.7518 -73.9846  B02512   25        4     0\n",
      "27220  2014-04-25 00:11:00  40.7238 -74.0048  B02512   25        4     0\n",
      "...                    ...      ...      ...     ...  ...      ...   ...\n",
      "562589 2014-04-25 23:51:00  40.7113 -73.9474  B02764   25        4    23\n",
      "562590 2014-04-25 23:52:00  40.7028 -73.9294  B02764   25        4    23\n",
      "562591 2014-04-25 23:54:00  40.7238 -73.9880  B02764   25        4    23\n",
      "562592 2014-04-25 23:56:00  40.7675 -73.9806  B02764   25        4    23\n",
      "562593 2014-04-25 23:59:00  40.7302 -73.9996  B02764   25        4    23\n",
      "\n",
      "[25095 rows x 7 columns]]\n",
      "[26,                  Date/Time      Lat      Lon    Base  dom  weekday  hour\n",
      "28626  2014-04-26 00:01:00  40.7393 -74.0014  B02512   26        5     0\n",
      "28627  2014-04-26 00:03:00  40.7272 -73.9920  B02512   26        5     0\n",
      "28628  2014-04-26 00:05:00  40.7391 -74.0054  B02512   26        5     0\n",
      "28629  2014-04-26 00:05:00  40.7190 -74.0034  B02512   26        5     0\n",
      "28630  2014-04-26 00:06:00  40.7601 -73.9962  B02512   26        5     0\n",
      "...                    ...      ...      ...     ...  ...      ...   ...\n",
      "563034 2014-04-26 23:47:00  40.6889 -73.9859  B02764   26        5    23\n",
      "563035 2014-04-26 23:50:00  40.7631 -73.9715  B02764   26        5    23\n",
      "563036 2014-04-26 23:53:00  40.7297 -74.0049  B02764   26        5    23\n",
      "563037 2014-04-26 23:55:00  40.7162 -73.9532  B02764   26        5    23\n",
      "563038 2014-04-26 23:57:00  40.7438 -74.0084  B02764   26        5    23\n",
      "\n",
      "[24925 rows x 7 columns]]\n",
      "[27,                  Date/Time      Lat      Lon    Base  dom  weekday  hour\n",
      "30044  2014-04-27 00:00:00  40.7357 -74.0067  B02512   27        6     0\n",
      "30045  2014-04-27 00:00:00  40.7246 -73.9936  B02512   27        6     0\n",
      "30046  2014-04-27 00:00:00  40.7188 -74.0024  B02512   27        6     0\n",
      "30047  2014-04-27 00:02:00  40.7500 -74.0026  B02512   27        6     0\n",
      "30048  2014-04-27 00:03:00  40.7204 -73.9872  B02512   27        6     0\n",
      "...                    ...      ...      ...     ...  ...      ...   ...\n",
      "563273 2014-04-27 22:59:00  40.7741 -73.8725  B02764   27        6    22\n",
      "563274 2014-04-27 23:23:00  40.7782 -73.9625  B02764   27        6    23\n",
      "563275 2014-04-27 23:33:00  40.6449 -73.7823  B02764   27        6    23\n",
      "563276 2014-04-27 23:35:00  40.7278 -73.9822  B02764   27        6    23\n",
      "563277 2014-04-27 23:41:00  40.6879 -74.1813  B02764   27        6    23\n",
      "\n",
      "[14677 rows x 7 columns]]\n",
      "[28,                  Date/Time      Lat      Lon    Base  dom  weekday  hour\n",
      "30892  2014-04-28 00:01:00  40.6449 -73.7818  B02512   28        0     0\n",
      "30893  2014-04-28 00:03:00  40.7683 -73.9845  B02512   28        0     0\n",
      "30894  2014-04-28 00:03:00  40.6450 -73.7815  B02512   28        0     0\n",
      "30895  2014-04-28 00:08:00  40.8682 -73.8244  B02512   28        0     0\n",
      "30896  2014-04-28 00:09:00  40.7292 -73.9872  B02512   28        0     0\n",
      "...                    ...      ...      ...     ...  ...      ...   ...\n",
      "563519 2014-04-28 23:17:00  40.7732 -73.9483  B02764   28        0    23\n",
      "563520 2014-04-28 23:23:00  40.7091 -74.0111  B02764   28        0    23\n",
      "563521 2014-04-28 23:35:00  40.7197 -73.9949  B02764   28        0    23\n",
      "563522 2014-04-28 23:40:00  40.6850 -73.9089  B02764   28        0    23\n",
      "563523 2014-04-28 23:52:00  40.7199 -73.9986  B02764   28        0    23\n",
      "\n",
      "[15475 rows x 7 columns]]\n",
      "[29,                  Date/Time      Lat      Lon    Base  dom  weekday  hour\n",
      "31863  2014-04-29 00:00:00  40.6448 -73.7825  B02512   29        1     0\n",
      "31864  2014-04-29 00:02:00  40.6910 -73.9541  B02512   29        1     0\n",
      "31865  2014-04-29 00:05:00  40.7590 -73.9764  B02512   29        1     0\n",
      "31866  2014-04-29 00:15:00  40.7351 -74.0099  B02512   29        1     0\n",
      "31867  2014-04-29 00:50:00  40.6730 -73.8333  B02512   29        1     0\n",
      "...                    ...      ...      ...     ...  ...      ...   ...\n",
      "563905 2014-04-29 23:03:00  40.7033 -73.9906  B02764   29        1    23\n",
      "563906 2014-04-29 23:04:00  40.7339 -74.0050  B02764   29        1    23\n",
      "563907 2014-04-29 23:07:00  40.7246 -73.9934  B02764   29        1    23\n",
      "563908 2014-04-29 23:14:00  40.7019 -73.9778  B02764   29        1    23\n",
      "563909 2014-04-29 23:35:00  40.7200 -74.0002  B02764   29        1    23\n",
      "\n",
      "[22835 rows x 7 columns]]\n",
      "[30,                  Date/Time      Lat      Lon    Base  dom  weekday  hour\n",
      "33350  2014-04-30 00:02:00  40.7685 -73.9581  B02512   30        2     0\n",
      "33351  2014-04-30 00:02:00  40.6444 -73.7823  B02512   30        2     0\n",
      "33352  2014-04-30 00:03:00  40.7715 -73.9825  B02512   30        2     0\n",
      "33353  2014-04-30 00:11:00  40.6799 -73.9075  B02512   30        2     0\n",
      "33354  2014-04-30 00:12:00  40.7198 -73.9858  B02512   30        2     0\n",
      "...                    ...      ...      ...     ...  ...      ...   ...\n",
      "564511 2014-04-30 23:22:00  40.7640 -73.9744  B02764   30        2    23\n",
      "564512 2014-04-30 23:26:00  40.7629 -73.9672  B02764   30        2    23\n",
      "564513 2014-04-30 23:31:00  40.7443 -73.9889  B02764   30        2    23\n",
      "564514 2014-04-30 23:32:00  40.6756 -73.9405  B02764   30        2    23\n",
      "564515 2014-04-30 23:48:00  40.6880 -73.9608  B02764   30        2    23\n",
      "\n",
      "[36251 rows x 7 columns]]\n"
     ]
    }
   ],
   "source": [
    "for k,rows in data.groupby('dom'):\n",
    "    print ([k, rows])"
   ]
  },
  {
   "cell_type": "code",
   "execution_count": 39,
   "metadata": {},
   "outputs": [
    {
     "name": "stdout",
     "output_type": "stream",
     "text": [
      "[1, 14546]\n",
      "[2, 17474]\n",
      "[3, 20701]\n",
      "[4, 26714]\n",
      "[5, 19521]\n",
      "[6, 13445]\n",
      "[7, 19550]\n",
      "[8, 16188]\n",
      "[9, 16843]\n",
      "[10, 20041]\n",
      "[11, 20420]\n",
      "[12, 18170]\n",
      "[13, 12112]\n",
      "[14, 12674]\n",
      "[15, 20641]\n",
      "[16, 17717]\n",
      "[17, 20973]\n",
      "[18, 18074]\n",
      "[19, 14602]\n",
      "[20, 11017]\n",
      "[21, 13162]\n",
      "[22, 16975]\n",
      "[23, 20346]\n",
      "[24, 23352]\n",
      "[25, 25095]\n",
      "[26, 24925]\n",
      "[27, 14677]\n",
      "[28, 15475]\n",
      "[29, 22835]\n",
      "[30, 36251]\n"
     ]
    }
   ],
   "source": [
    "for k,rows in data.groupby('dom'):\n",
    "    print ([k,len(rows)])\n",
    "# this provide information of histogram"
   ]
  },
  {
   "cell_type": "code",
   "execution_count": 41,
   "metadata": {},
   "outputs": [
    {
     "data": {
      "text/plain": [
       "dom\n",
       "1     14546\n",
       "2     17474\n",
       "3     20701\n",
       "4     26714\n",
       "5     19521\n",
       "6     13445\n",
       "7     19550\n",
       "8     16188\n",
       "9     16843\n",
       "10    20041\n",
       "11    20420\n",
       "12    18170\n",
       "13    12112\n",
       "14    12674\n",
       "15    20641\n",
       "16    17717\n",
       "17    20973\n",
       "18    18074\n",
       "19    14602\n",
       "20    11017\n",
       "21    13162\n",
       "22    16975\n",
       "23    20346\n",
       "24    23352\n",
       "25    25095\n",
       "26    24925\n",
       "27    14677\n",
       "28    15475\n",
       "29    22835\n",
       "30    36251\n",
       "dtype: int64"
      ]
     },
     "execution_count": 41,
     "metadata": {},
     "output_type": "execute_result"
    }
   ],
   "source": [
    "# another method\n",
    "def count_rows(rows):\n",
    "    return len(rows)\n",
    "by_date = data.groupby('dom').apply(count_rows)\n",
    "by_date"
   ]
  },
  {
   "cell_type": "code",
   "execution_count": 43,
   "metadata": {},
   "outputs": [
    {
     "data": {
      "text/plain": [
       "[<matplotlib.lines.Line2D at 0xfa05734b88>]"
      ]
     },
     "execution_count": 43,
     "metadata": {},
     "output_type": "execute_result"
    },
    {
     "data": {
      "image/png": "[encoded data removed]",
      "text/plain": [
       "<Figure size 432x288 with 1 Axes>"
      ]
     },
     "metadata": {
      "needs_background": "light"
     },
     "output_type": "display_data"
    }
   ],
   "source": [
    "plot (by_date)"
   ]
  },
  {
   "cell_type": "code",
   "execution_count": 45,
   "metadata": {},
   "outputs": [
    {
     "data": {
      "text/plain": [
       "<BarContainer object of 30 artists>"
      ]
     },
     "execution_count": 45,
     "metadata": {},
     "output_type": "execute_result"
    },
    {
     "data": {
      "image/png": "[encoded data removed]",
      "text/plain": [
       "<Figure size 432x288 with 1 Axes>"
      ]
     },
     "metadata": {
      "needs_background": "light"
     },
     "output_type": "display_data"
    }
   ],
   "source": [
    "bar(range(1,31),by_date)"
   ]
  },
  {
   "cell_type": "code",
   "execution_count": 48,
   "metadata": {},
   "outputs": [
    {
     "data": {
      "text/plain": [
       "dom\n",
       "20    11017\n",
       "13    12112\n",
       "14    12674\n",
       "21    13162\n",
       "6     13445\n",
       "1     14546\n",
       "19    14602\n",
       "27    14677\n",
       "28    15475\n",
       "8     16188\n",
       "9     16843\n",
       "22    16975\n",
       "2     17474\n",
       "16    17717\n",
       "18    18074\n",
       "12    18170\n",
       "5     19521\n",
       "7     19550\n",
       "10    20041\n",
       "23    20346\n",
       "11    20420\n",
       "15    20641\n",
       "3     20701\n",
       "17    20973\n",
       "29    22835\n",
       "24    23352\n",
       "26    24925\n",
       "25    25095\n",
       "4     26714\n",
       "30    36251\n",
       "dtype: int64"
      ]
     },
     "execution_count": 48,
     "metadata": {},
     "output_type": "execute_result"
    }
   ],
   "source": [
    "by_date_sorted = by_date.sort_values()\n",
    "by_date_sorted\n",
    "# shows variations"
   ]
  },
  {
   "cell_type": "code",
   "execution_count": 49,
   "metadata": {},
   "outputs": [
    {
     "data": {
      "text/plain": [
       "<BarContainer object of 30 artists>"
      ]
     },
     "execution_count": 49,
     "metadata": {},
     "output_type": "execute_result"
    },
    {
     "data": {
      "image/png": "[encoded data removed]",
      "text/plain": [
       "<Figure size 432x288 with 1 Axes>"
      ]
     },
     "metadata": {
      "needs_background": "light"
     },
     "output_type": "display_data"
    }
   ],
   "source": [
    "bar(range(1,31),by_date_sorted)"
   ]
  },
  {
   "cell_type": "code",
   "execution_count": 52,
   "metadata": {},
   "outputs": [
    {
     "data": {
      "text/plain": [
       "([<matplotlib.axis.XTick at 0xfa0552e3c8>,\n",
       "  <matplotlib.axis.XTick at 0xfa05872248>,\n",
       "  <matplotlib.axis.XTick at 0xfa0553ef88>,\n",
       "  <matplotlib.axis.XTick at 0xfa05463508>,\n",
       "  <matplotlib.axis.XTick at 0xfa05463908>,\n",
       "  <matplotlib.axis.XTick at 0xfa0545e208>,\n",
       "  <matplotlib.axis.XTick at 0xfa0545e688>,\n",
       "  <matplotlib.axis.XTick at 0xfa0545ecc8>,\n",
       "  <matplotlib.axis.XTick at 0xfa05457548>,\n",
       "  <matplotlib.axis.XTick at 0xfa05457c88>,\n",
       "  <matplotlib.axis.XTick at 0xfa054533c8>,\n",
       "  <matplotlib.axis.XTick at 0xfa05453b88>,\n",
       "  <matplotlib.axis.XTick at 0xfa038ec508>,\n",
       "  <matplotlib.axis.XTick at 0xfa038e71c8>,\n",
       "  <matplotlib.axis.XTick at 0xfa05457ec8>,\n",
       "  <matplotlib.axis.XTick at 0xfa0545e8c8>,\n",
       "  <matplotlib.axis.XTick at 0xfa038e7ec8>,\n",
       "  <matplotlib.axis.XTick at 0xfa038e4648>,\n",
       "  <matplotlib.axis.XTick at 0xfa038e1288>,\n",
       "  <matplotlib.axis.XTick at 0xfa038e1908>,\n",
       "  <matplotlib.axis.XTick at 0xfa038db288>,\n",
       "  <matplotlib.axis.XTick at 0xfa038dbe08>,\n",
       "  <matplotlib.axis.XTick at 0xfa038d7908>,\n",
       "  <matplotlib.axis.XTick at 0xfa038d1408>,\n",
       "  <matplotlib.axis.XTick at 0xfa038d1ec8>,\n",
       "  <matplotlib.axis.XTick at 0xfa038e1b88>,\n",
       "  <matplotlib.axis.XTick at 0xfa038cd248>,\n",
       "  <matplotlib.axis.XTick at 0xfa038cdb88>,\n",
       "  <matplotlib.axis.XTick at 0xfa038c8508>,\n",
       "  <matplotlib.axis.XTick at 0xfa038c5188>],\n",
       " <a list of 30 Text xticklabel objects>)"
      ]
     },
     "execution_count": 52,
     "metadata": {},
     "output_type": "execute_result"
    },
    {
     "data": {
      "image/png": "[encoded data removed]",
      "text/plain": [
       "<Figure size 432x288 with 1 Axes>"
      ]
     },
     "metadata": {
      "needs_background": "light"
     },
     "output_type": "display_data"
    }
   ],
   "source": [
    "bar(range(1,31),by_date_sorted)\n",
    "xticks(range(1,31),by_date_sorted.index)"
   ]
  },
  {
   "cell_type": "code",
   "execution_count": 56,
   "metadata": {},
   "outputs": [
    {
     "data": {
      "text/plain": [
       "''"
      ]
     },
     "execution_count": 56,
     "metadata": {},
     "output_type": "execute_result"
    },
    {
     "data": {
      "image/png": "[encoded data removed]",
      "text/plain": [
       "<Figure size 432x288 with 1 Axes>"
      ]
     },
     "metadata": {
      "needs_background": "light"
     },
     "output_type": "display_data"
    }
   ],
   "source": [
    "bar(range(1, 31),by_date_sorted)\n",
    "xticks(range(1,31),by_date_sorted.index)\n",
    "xlabel('date of the month')\n",
    "ylabel('frequency')\n",
    "title('frequency by dom -uber- april 2014')\n",
    ";"
   ]
  },
  {
   "cell_type": "markdown",
   "metadata": {},
   "source": [
    "# analysis by hour"
   ]
  },
  {
   "cell_type": "code",
   "execution_count": 60,
   "metadata": {},
   "outputs": [
    {
     "data": {
      "text/plain": [
       "(array([ 7769.,  4935.,  5040.,  6095.,  9476., 18498., 24924., 22843.,\n",
       "        17939., 17865., 18774., 19425., 22603., 27190., 35324., 42003.,\n",
       "        45475., 43003., 38923., 36244., 36964., 30645., 20649.,     0.]),\n",
       " array([ 0.5       ,  1.47916667,  2.45833333,  3.4375    ,  4.41666667,\n",
       "         5.39583333,  6.375     ,  7.35416667,  8.33333333,  9.3125    ,\n",
       "        10.29166667, 11.27083333, 12.25      , 13.22916667, 14.20833333,\n",
       "        15.1875    , 16.16666667, 17.14583333, 18.125     , 19.10416667,\n",
       "        20.08333333, 21.0625    , 22.04166667, 23.02083333, 24.        ]),\n",
       " <a list of 24 Patch objects>)"
      ]
     },
     "execution_count": 60,
     "metadata": {},
     "output_type": "execute_result"
    },
    {
     "data": {
      "image/png": "[encoded data removed]",
      "text/plain": [
       "<Figure size 432x288 with 1 Axes>"
      ]
     },
     "metadata": {
      "needs_background": "light"
     },
     "output_type": "display_data"
    }
   ],
   "source": [
    "hist(data.hour,bins=24,range=(0.5,24))"
   ]
  },
  {
   "cell_type": "markdown",
   "metadata": {},
   "source": [
    "# weekday"
   ]
  },
  {
   "cell_type": "code",
   "execution_count": 64,
   "metadata": {},
   "outputs": [
    {
     "data": {
      "text/plain": [
       "(array([ 60861.,  91185., 108631.,  85067.,  90303.,  77218.,  51251.]),\n",
       " array([-0.5,  0.5,  1.5,  2.5,  3.5,  4.5,  5.5,  6.5]),\n",
       " <a list of 7 Patch objects>)"
      ]
     },
     "execution_count": 64,
     "metadata": {},
     "output_type": "execute_result"
    },
    {
     "data": {
      "image/png": "[encoded data removed]",
      "text/plain": [
       "<Figure size 432x288 with 1 Axes>"
      ]
     },
     "metadata": {
      "needs_background": "light"
     },
     "output_type": "display_data"
    }
   ],
   "source": [
    "hist(data.weekday,bins=7,range=(-0.5,6.5),rwidth=0.8,color='green')"
   ]
  },
  {
   "cell_type": "code",
   "execution_count": 69,
   "metadata": {},
   "outputs": [
    {
     "data": {
      "text/plain": [
       "''"
      ]
     },
     "execution_count": 69,
     "metadata": {},
     "output_type": "execute_result"
    },
    {
     "data": {
      "image/png": "[encoded data removed]",
      "text/plain": [
       "<Figure size 432x288 with 1 Axes>"
      ]
     },
     "metadata": {
      "needs_background": "light"
     },
     "output_type": "display_data"
    }
   ],
   "source": [
    "hist(data.weekday,bins=7,range=(-0.5,6.5),rwidth=0.8,color='green',alpha=0.4)\n",
    "xticks(range(7),'Mon Tue Wed Thu Fri Sat Sun'.split())\n",
    ";"
   ]
  },
  {
   "cell_type": "markdown",
   "metadata": {},
   "source": [
    "# cross analysis (hour,date of week)"
   ]
  },
  {
   "cell_type": "code",
   "execution_count": 77,
   "metadata": {},
   "outputs": [
    {
     "data": {
      "text/html": [
       "<div>\n",
       "<style scoped>\n",
       "    .dataframe tbody tr th:only-of-type {\n",
       "        vertical-align: middle;\n",
       "    }\n",
       "\n",
       "    .dataframe tbody tr th {\n",
       "        vertical-align: top;\n",
       "    }\n",
       "\n",
       "    .dataframe thead th {\n",
       "        text-align: right;\n",
       "    }\n",
       "</style>\n",
       "<table border=\"1\" class=\"dataframe\">\n",
       "  <thead>\n",
       "    <tr style=\"text-align: right;\">\n",
       "      <th>hour</th>\n",
       "      <th>0</th>\n",
       "      <th>1</th>\n",
       "      <th>2</th>\n",
       "      <th>3</th>\n",
       "      <th>4</th>\n",
       "      <th>5</th>\n",
       "      <th>6</th>\n",
       "      <th>7</th>\n",
       "      <th>8</th>\n",
       "      <th>9</th>\n",
       "      <th>...</th>\n",
       "      <th>14</th>\n",
       "      <th>15</th>\n",
       "      <th>16</th>\n",
       "      <th>17</th>\n",
       "      <th>18</th>\n",
       "      <th>19</th>\n",
       "      <th>20</th>\n",
       "      <th>21</th>\n",
       "      <th>22</th>\n",
       "      <th>23</th>\n",
       "    </tr>\n",
       "    <tr>\n",
       "      <th>weekday</th>\n",
       "      <th></th>\n",
       "      <th></th>\n",
       "      <th></th>\n",
       "      <th></th>\n",
       "      <th></th>\n",
       "      <th></th>\n",
       "      <th></th>\n",
       "      <th></th>\n",
       "      <th></th>\n",
       "      <th></th>\n",
       "      <th></th>\n",
       "      <th></th>\n",
       "      <th></th>\n",
       "      <th></th>\n",
       "      <th></th>\n",
       "      <th></th>\n",
       "      <th></th>\n",
       "      <th></th>\n",
       "      <th></th>\n",
       "      <th></th>\n",
       "      <th></th>\n",
       "    </tr>\n",
       "  </thead>\n",
       "  <tbody>\n",
       "    <tr>\n",
       "      <td>0</td>\n",
       "      <td>518</td>\n",
       "      <td>261</td>\n",
       "      <td>238</td>\n",
       "      <td>571</td>\n",
       "      <td>1021</td>\n",
       "      <td>1619</td>\n",
       "      <td>2974</td>\n",
       "      <td>3888</td>\n",
       "      <td>3138</td>\n",
       "      <td>2211</td>\n",
       "      <td>...</td>\n",
       "      <td>3117</td>\n",
       "      <td>3818</td>\n",
       "      <td>4962</td>\n",
       "      <td>5574</td>\n",
       "      <td>4725</td>\n",
       "      <td>4386</td>\n",
       "      <td>3573</td>\n",
       "      <td>3079</td>\n",
       "      <td>1976</td>\n",
       "      <td>1091</td>\n",
       "    </tr>\n",
       "    <tr>\n",
       "      <td>1</td>\n",
       "      <td>765</td>\n",
       "      <td>367</td>\n",
       "      <td>304</td>\n",
       "      <td>516</td>\n",
       "      <td>887</td>\n",
       "      <td>1734</td>\n",
       "      <td>3766</td>\n",
       "      <td>5304</td>\n",
       "      <td>4594</td>\n",
       "      <td>2962</td>\n",
       "      <td>...</td>\n",
       "      <td>4489</td>\n",
       "      <td>6042</td>\n",
       "      <td>7521</td>\n",
       "      <td>8297</td>\n",
       "      <td>7089</td>\n",
       "      <td>6459</td>\n",
       "      <td>6310</td>\n",
       "      <td>5993</td>\n",
       "      <td>3614</td>\n",
       "      <td>1948</td>\n",
       "    </tr>\n",
       "    <tr>\n",
       "      <td>2</td>\n",
       "      <td>899</td>\n",
       "      <td>507</td>\n",
       "      <td>371</td>\n",
       "      <td>585</td>\n",
       "      <td>1003</td>\n",
       "      <td>1990</td>\n",
       "      <td>4230</td>\n",
       "      <td>5647</td>\n",
       "      <td>5242</td>\n",
       "      <td>3846</td>\n",
       "      <td>...</td>\n",
       "      <td>5438</td>\n",
       "      <td>7071</td>\n",
       "      <td>8213</td>\n",
       "      <td>9151</td>\n",
       "      <td>8334</td>\n",
       "      <td>7794</td>\n",
       "      <td>7783</td>\n",
       "      <td>6921</td>\n",
       "      <td>4845</td>\n",
       "      <td>2571</td>\n",
       "    </tr>\n",
       "    <tr>\n",
       "      <td>3</td>\n",
       "      <td>792</td>\n",
       "      <td>459</td>\n",
       "      <td>342</td>\n",
       "      <td>567</td>\n",
       "      <td>861</td>\n",
       "      <td>1454</td>\n",
       "      <td>3179</td>\n",
       "      <td>4159</td>\n",
       "      <td>3616</td>\n",
       "      <td>2654</td>\n",
       "      <td>...</td>\n",
       "      <td>4083</td>\n",
       "      <td>5182</td>\n",
       "      <td>6149</td>\n",
       "      <td>6951</td>\n",
       "      <td>6637</td>\n",
       "      <td>5929</td>\n",
       "      <td>6345</td>\n",
       "      <td>6585</td>\n",
       "      <td>5370</td>\n",
       "      <td>2909</td>\n",
       "    </tr>\n",
       "    <tr>\n",
       "      <td>4</td>\n",
       "      <td>1367</td>\n",
       "      <td>760</td>\n",
       "      <td>513</td>\n",
       "      <td>736</td>\n",
       "      <td>932</td>\n",
       "      <td>1382</td>\n",
       "      <td>2836</td>\n",
       "      <td>3943</td>\n",
       "      <td>3648</td>\n",
       "      <td>2732</td>\n",
       "      <td>...</td>\n",
       "      <td>4087</td>\n",
       "      <td>5354</td>\n",
       "      <td>6259</td>\n",
       "      <td>6790</td>\n",
       "      <td>7258</td>\n",
       "      <td>6247</td>\n",
       "      <td>5165</td>\n",
       "      <td>6265</td>\n",
       "      <td>6708</td>\n",
       "      <td>5393</td>\n",
       "    </tr>\n",
       "    <tr>\n",
       "      <td>5</td>\n",
       "      <td>3027</td>\n",
       "      <td>2479</td>\n",
       "      <td>1577</td>\n",
       "      <td>1013</td>\n",
       "      <td>706</td>\n",
       "      <td>704</td>\n",
       "      <td>844</td>\n",
       "      <td>1110</td>\n",
       "      <td>1372</td>\n",
       "      <td>1764</td>\n",
       "      <td>...</td>\n",
       "      <td>3042</td>\n",
       "      <td>4457</td>\n",
       "      <td>5410</td>\n",
       "      <td>5558</td>\n",
       "      <td>6165</td>\n",
       "      <td>5529</td>\n",
       "      <td>4792</td>\n",
       "      <td>5811</td>\n",
       "      <td>6493</td>\n",
       "      <td>5719</td>\n",
       "    </tr>\n",
       "    <tr>\n",
       "      <td>6</td>\n",
       "      <td>4542</td>\n",
       "      <td>2936</td>\n",
       "      <td>1590</td>\n",
       "      <td>1052</td>\n",
       "      <td>685</td>\n",
       "      <td>593</td>\n",
       "      <td>669</td>\n",
       "      <td>873</td>\n",
       "      <td>1233</td>\n",
       "      <td>1770</td>\n",
       "      <td>...</td>\n",
       "      <td>2934</td>\n",
       "      <td>3400</td>\n",
       "      <td>3489</td>\n",
       "      <td>3154</td>\n",
       "      <td>2795</td>\n",
       "      <td>2579</td>\n",
       "      <td>2276</td>\n",
       "      <td>2310</td>\n",
       "      <td>1639</td>\n",
       "      <td>1018</td>\n",
       "    </tr>\n",
       "  </tbody>\n",
       "</table>\n",
       "<p>7 rows × 24 columns</p>\n",
       "</div>"
      ],
      "text/plain": [
       "hour       0     1     2     3     4     5     6     7     8     9   ...  \\\n",
       "weekday                                                              ...   \n",
       "0         518   261   238   571  1021  1619  2974  3888  3138  2211  ...   \n",
       "1         765   367   304   516   887  1734  3766  5304  4594  2962  ...   \n",
       "2         899   507   371   585  1003  1990  4230  5647  5242  3846  ...   \n",
       "3         792   459   342   567   861  1454  3179  4159  3616  2654  ...   \n",
       "4        1367   760   513   736   932  1382  2836  3943  3648  2732  ...   \n",
       "5        3027  2479  1577  1013   706   704   844  1110  1372  1764  ...   \n",
       "6        4542  2936  1590  1052   685   593   669   873  1233  1770  ...   \n",
       "\n",
       "hour       14    15    16    17    18    19    20    21    22    23  \n",
       "weekday                                                              \n",
       "0        3117  3818  4962  5574  4725  4386  3573  3079  1976  1091  \n",
       "1        4489  6042  7521  8297  7089  6459  6310  5993  3614  1948  \n",
       "2        5438  7071  8213  9151  8334  7794  7783  6921  4845  2571  \n",
       "3        4083  5182  6149  6951  6637  5929  6345  6585  5370  2909  \n",
       "4        4087  5354  6259  6790  7258  6247  5165  6265  6708  5393  \n",
       "5        3042  4457  5410  5558  6165  5529  4792  5811  6493  5719  \n",
       "6        2934  3400  3489  3154  2795  2579  2276  2310  1639  1018  \n",
       "\n",
       "[7 rows x 24 columns]"
      ]
     },
     "execution_count": 77,
     "metadata": {},
     "output_type": "execute_result"
    }
   ],
   "source": [
    "by_h_d=data.groupby('weekday hour'.split()).apply(count_rows).unstack()\n",
    "by_h_d"
   ]
  },
  {
   "cell_type": "code",
   "execution_count": 78,
   "metadata": {},
   "outputs": [
    {
     "data": {
      "text/plain": [
       "<matplotlib.axes._subplots.AxesSubplot at 0xfa05817688>"
      ]
     },
     "execution_count": 78,
     "metadata": {},
     "output_type": "execute_result"
    },
    {
     "data": {
      "image/png": "[encoded data removed]",
      "text/plain": [
       "<Figure size 432x288 with 2 Axes>"
      ]
     },
     "metadata": {
      "needs_background": "light"
     },
     "output_type": "display_data"
    }
   ],
   "source": [
    "seaborn.heatmap(by_h_d)"
   ]
  },
  {
   "cell_type": "markdown",
   "metadata": {},
   "source": [
    "# by lat and long"
   ]
  },
  {
   "cell_type": "code",
   "execution_count": 84,
   "metadata": {},
   "outputs": [
    {
     "data": {
      "text/plain": [
       "''"
      ]
     },
     "execution_count": 84,
     "metadata": {},
     "output_type": "execute_result"
    },
    {
     "data": {
      "image/png": "[encoded data removed]",
      "text/plain": [
       "<Figure size 432x288 with 1 Axes>"
      ]
     },
     "metadata": {
      "needs_background": "light"
     },
     "output_type": "display_data"
    }
   ],
   "source": [
    "hist(data.Lat,bins=100,range=(40.5,41))\n",
    ";"
   ]
  },
  {
   "cell_type": "code",
   "execution_count": 86,
   "metadata": {},
   "outputs": [
    {
     "data": {
      "text/plain": [
       "''"
      ]
     },
     "execution_count": 86,
     "metadata": {},
     "output_type": "execute_result"
    },
    {
     "data": {
      "image/png": "[encoded data removed]",
      "text/plain": [
       "<Figure size 432x288 with 1 Axes>"
      ]
     },
     "metadata": {
      "needs_background": "light"
     },
     "output_type": "display_data"
    }
   ],
   "source": [
    "hist(data.Lon,bins=100)\n",
    ";"
   ]
  },
  {
   "cell_type": "code",
   "execution_count": 94,
   "metadata": {},
   "outputs": [
    {
     "data": {
      "text/plain": [
       "''"
      ]
     },
     "execution_count": 94,
     "metadata": {},
     "output_type": "execute_result"
    },
    {
     "data": {
      "image/png": "[encoded data removed]",
      "text/plain": [
       "<Figure size 432x288 with 2 Axes>"
      ]
     },
     "metadata": {
      "needs_background": "light"
     },
     "output_type": "display_data"
    }
   ],
   "source": [
    "hist(data.Lon,bins=100,range=(-74.1,-73.9),color='g',alpha=.5,label = 'longitude')\n",
    "legend(loc='upper left')\n",
    "twiny()\n",
    "hist(data.Lat,bins=100,range=(40.5,41),color='r',alpha=0.5,label='latitude')\n",
    "legend(loc='best')\n",
    "\n",
    ";"
   ]
  },
  {
   "cell_type": "code",
   "execution_count": 101,
   "metadata": {},
   "outputs": [
    {
     "data": {
      "text/plain": [
       "[<matplotlib.lines.Line2D at 0xfa059ab508>]"
      ]
     },
     "execution_count": 101,
     "metadata": {},
     "output_type": "execute_result"
    },
    {
     "data": {
      "image/png": "[encoded data removed]",
      "text/plain": [
       "<Figure size 432x288 with 1 Axes>"
      ]
     },
     "metadata": {
      "needs_background": "light"
     },
     "output_type": "display_data"
    }
   ],
   "source": [
    "plot(data['Lat'],data['Lon'])"
   ]
  },
  {
   "cell_type": "code",
   "execution_count": 102,
   "metadata": {},
   "outputs": [
    {
     "data": {
      "text/plain": [
       "[<matplotlib.lines.Line2D at 0xfa072d8708>]"
      ]
     },
     "execution_count": 102,
     "metadata": {},
     "output_type": "execute_result"
    },
    {
     "data": {
      "image/png": "[encoded data removed]",
      "text/plain": [
       "<Figure size 432x288 with 1 Axes>"
      ]
     },
     "metadata": {
      "needs_background": "light"
     },
     "output_type": "display_data"
    }
   ],
   "source": [
    "plot(data['Lat'],data['Lon'],'.')"
   ]
  },
  {
   "cell_type": "code",
   "execution_count": null,
   "metadata": {},
   "outputs": [],
   "source": []
  }
 ],
 "metadata": {
  "kernelspec": {
   "display_name": "Python 3",
   "language": "python",
   "name": "python3"
  },
  "language_info": {
   "codemirror_mode": {
    "name": "ipython",
    "version": 3
   },
   "file_extension": ".py",
   "mimetype": "text/x-python",
   "name": "python",
   "nbconvert_exporter": "python",
   "pygments_lexer": "ipython3",
   "version": "3.7.4"
  }
 },
 "nbformat": 4,
 "nbformat_minor": 2
}
